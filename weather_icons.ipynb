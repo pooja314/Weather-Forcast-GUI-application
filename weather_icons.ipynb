{
 "cells": [
  {
   "cell_type": "code",
   "execution_count": 1,
   "metadata": {},
   "outputs": [],
   "source": [
    "import os\n",
    "import urllib.request\n",
    "\n",
    "day = ['01d.png', '02d.png', '03d.png', '04d.png', '09d.png', '10d.png', '11d.png', '13n.png', '50d.png']\n",
    "night = ['01n.png', '02n.png', '03n.png', '04n.png', '09n.png', '10n.png', '11n.png', '13n.png', '50n.png']\n",
    "\n",
    "base_url = 'https://openweathermap.org/img/w/'\n",
    "img_dir = './img/'\n",
    "if not os.path.exists(img_dir):\n",
    "    os.makedirs(img_dir)\n",
    "\n",
    "# Get the day weather icons\n",
    "for name in day:\n",
    "    file_name = img_dir+name\n",
    "    if not os.path.exists(file_name):\n",
    "        urllib.request.urlretrieve(base_url+name, file_name)\n",
    "\n",
    "# Repeat the same thing for night weather icons\n",
    "for name in night:\n",
    "    file_name = img_dir+name\n",
    "    if not os.path.exists(file_name):\n",
    "        urllib.request.urlretrieve(base_url+name, file_name)"
   ]
  }
 ],
 "metadata": {
  "kernelspec": {
   "display_name": "Python 3",
   "language": "python",
   "name": "python3"
  },
  "language_info": {
   "codemirror_mode": {
    "name": "ipython",
    "version": 3
   },
   "file_extension": ".py",
   "mimetype": "text/x-python",
   "name": "python",
   "nbconvert_exporter": "python",
   "pygments_lexer": "ipython3",
   "version": "3.7.7"
  }
 },
 "nbformat": 4,
 "nbformat_minor": 4
}
